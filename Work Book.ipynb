{
 "cells": [
  {
   "cell_type": "markdown",
   "metadata": {},
   "source": [
    "# Statistics for Data Science"
   ]
  },
  {
   "cell_type": "code",
   "execution_count": 46,
   "metadata": {},
   "outputs": [],
   "source": [
    "import pandas as pd\n",
    "import numpy as np\n",
    "import matplotlib.pyplot as mp\n",
    "from scipy.stats import norm"
   ]
  },
  {
   "cell_type": "markdown",
   "metadata": {},
   "source": [
    "## Descriptive Statistics"
   ]
  },
  {
   "cell_type": "code",
   "execution_count": 9,
   "metadata": {},
   "outputs": [
    {
     "name": "stdout",
     "output_type": "stream",
     "text": [
      "   ID  Total Marks\n",
      "0   2           34\n",
      "1   3           23\n",
      "2   4           67\n",
      "3   6           55\n",
      "4   8           36\n",
      "5  32           12\n",
      "6  34           34\n",
      "7  56           55\n",
      "8  87           43\n",
      "9  32           67\n"
     ]
    }
   ],
   "source": [
    "data = pd.read_csv('sample_csv_file.csv')\n",
    "print(data)"
   ]
  },
  {
   "cell_type": "markdown",
   "metadata": {},
   "source": [
    "## Sorting"
   ]
  },
  {
   "cell_type": "code",
   "execution_count": 10,
   "metadata": {},
   "outputs": [
    {
     "name": "stdout",
     "output_type": "stream",
     "text": [
      "   ID  Total Marks\n",
      "5  32           12\n",
      "1   3           23\n",
      "0   2           34\n",
      "6  34           34\n",
      "4   8           36\n",
      "8  87           43\n",
      "3   6           55\n",
      "7  56           55\n",
      "2   4           67\n",
      "9  32           67\n"
     ]
    }
   ],
   "source": [
    "sorted_data = data.sort_values(['Total Marks'], ascending = ['False'])\n",
    "print(sorted_data)"
   ]
  },
  {
   "cell_type": "markdown",
   "metadata": {},
   "source": [
    "## Measures of Central Tendency"
   ]
  },
  {
   "cell_type": "code",
   "execution_count": 14,
   "metadata": {
    "scrolled": true
   },
   "outputs": [
    {
     "name": "stdout",
     "output_type": "stream",
     "text": [
      "Median: ID             20.0\n",
      "Total Marks    39.5\n",
      "dtype: float64\n",
      "\n",
      "\n",
      "Count: ID             10\n",
      "Total Marks    10\n",
      "dtype: int64\n"
     ]
    }
   ],
   "source": [
    "print('Median:', data.median())\n",
    "print('\\n')\n",
    "print('Count:', data.count())"
   ]
  },
  {
   "cell_type": "code",
   "execution_count": 15,
   "metadata": {},
   "outputs": [
    {
     "name": "stdout",
     "output_type": "stream",
     "text": [
      "Mode:      ID  Total Marks\n",
      "0  32.0           34\n",
      "1   NaN           55\n",
      "2   NaN           67\n"
     ]
    }
   ],
   "source": [
    "print('Mode:', data.mode())"
   ]
  },
  {
   "cell_type": "code",
   "execution_count": 16,
   "metadata": {},
   "outputs": [
    {
     "name": "stdout",
     "output_type": "stream",
     "text": [
      "Range: ID             85\n",
      "Total Marks    55\n",
      "dtype: int64\n"
     ]
    }
   ],
   "source": [
    "print('Range:', data.max()- data.min())"
   ]
  },
  {
   "cell_type": "code",
   "execution_count": 18,
   "metadata": {},
   "outputs": [
    {
     "name": "stdout",
     "output_type": "stream",
     "text": [
      "Variance: ID             785.377778\n",
      "Total Marks    334.488889\n",
      "dtype: float64\n",
      "\n",
      "\n",
      "Standerd Deviation: ID             28.024592\n",
      "Total Marks    18.289037\n",
      "dtype: float64\n"
     ]
    }
   ],
   "source": [
    "print('Variance:', data.var())\n",
    "print('\\n')\n",
    "print('Standerd Deviation:', data.std())"
   ]
  },
  {
   "cell_type": "code",
   "execution_count": 19,
   "metadata": {},
   "outputs": [
    {
     "name": "stdout",
     "output_type": "stream",
     "text": [
      "Skewness : ID             1.236636\n",
      "Total Marks   -0.110677\n",
      "dtype: float64\n",
      "\n",
      "\n",
      "Kurtosis: ID             1.128592\n",
      "Total Marks   -0.840877\n",
      "dtype: float64\n"
     ]
    }
   ],
   "source": [
    "print('Skewness :', data.skew())\n",
    "print('\\n')\n",
    "print('Kurtosis:', data.kurt())"
   ]
  },
  {
   "cell_type": "markdown",
   "metadata": {},
   "source": [
    "## Histogram"
   ]
  },
  {
   "cell_type": "code",
   "execution_count": 20,
   "metadata": {},
   "outputs": [
    {
     "data": {
      "text/plain": [
       "array([[<matplotlib.axes._subplots.AxesSubplot object at 0x11ddc07f0>,\n",
       "        <matplotlib.axes._subplots.AxesSubplot object at 0x11e1be0f0>]],\n",
       "      dtype=object)"
      ]
     },
     "execution_count": 20,
     "metadata": {},
     "output_type": "execute_result"
    },
    {
     "data": {
      "image/png": "[encoded data removed]",
      "text/plain": [
       "<Figure size 432x288 with 2 Axes>"
      ]
     },
     "metadata": {
      "needs_background": "light"
     },
     "output_type": "display_data"
    }
   ],
   "source": [
    "data.hist()"
   ]
  },
  {
   "cell_type": "markdown",
   "metadata": {},
   "source": [
    "## Scatter Matrix"
   ]
  },
  {
   "cell_type": "code",
   "execution_count": 21,
   "metadata": {},
   "outputs": [
    {
     "name": "stderr",
     "output_type": "stream",
     "text": [
      "/anaconda3/lib/python3.7/site-packages/ipykernel_launcher.py:1: FutureWarning: pandas.scatter_matrix is deprecated, use pandas.plotting.scatter_matrix instead\n",
      "  \"\"\"Entry point for launching an IPython kernel.\n"
     ]
    },
    {
     "name": "stdout",
     "output_type": "stream",
     "text": [
      "[[<matplotlib.axes._subplots.AxesSubplot object at 0x11e0e2400>\n",
      "  <matplotlib.axes._subplots.AxesSubplot object at 0x11e2eca90>]\n",
      " [<matplotlib.axes._subplots.AxesSubplot object at 0x11e37f048>\n",
      "  <matplotlib.axes._subplots.AxesSubplot object at 0x11e3a65c0>]]\n"
     ]
    },
    {
     "data": {
      "image/png": "[encoded data removed]",
      "text/plain": [
       "<Figure size 432x288 with 4 Axes>"
      ]
     },
     "metadata": {
      "needs_background": "light"
     },
     "output_type": "display_data"
    }
   ],
   "source": [
    "print(pd.scatter_matrix(data))"
   ]
  },
  {
   "cell_type": "markdown",
   "metadata": {},
   "source": [
    "## Correlation"
   ]
  },
  {
   "cell_type": "code",
   "execution_count": null,
   "metadata": {},
   "outputs": [],
   "source": [
    "#Correlation - pearson for continuous data and spearson for ordinal data (covariance/StdDeviation)"
   ]
  },
  {
   "cell_type": "code",
   "execution_count": 23,
   "metadata": {},
   "outputs": [
    {
     "name": "stdout",
     "output_type": "stream",
     "text": [
      "                   ID  Total Marks\n",
      "ID           1.000000     0.061046\n",
      "Total Marks  0.061046     1.000000\n"
     ]
    }
   ],
   "source": [
    "correlation = data.corr(method = 'pearson', min_periods = 1)\n",
    "print(correlation)"
   ]
  },
  {
   "cell_type": "code",
   "execution_count": null,
   "metadata": {},
   "outputs": [],
   "source": [
    "#Correaltion using color shades ie visualization of correlation "
   ]
  },
  {
   "cell_type": "code",
   "execution_count": 25,
   "metadata": {},
   "outputs": [
    {
     "data": {
      "text/plain": [
       "<matplotlib.colorbar.Colorbar at 0x11e813d68>"
      ]
     },
     "execution_count": 25,
     "metadata": {},
     "output_type": "execute_result"
    },
    {
     "data": {
      "image/png": "[encoded data removed]",
      "text/plain": [
       "<Figure size 288x288 with 2 Axes>"
      ]
     },
     "metadata": {
      "needs_background": "light"
     },
     "output_type": "display_data"
    }
   ],
   "source": [
    "mp.matshow(correlation)\n",
    "mp.xticks(range(len(data.columns)), data.columns)\n",
    "mp.yticks(range(len(data.columns)), data.columns)\n",
    "mp.colorbar()"
   ]
  },
  {
   "cell_type": "code",
   "execution_count": 29,
   "metadata": {},
   "outputs": [
    {
     "name": "stdout",
     "output_type": "stream",
     "text": [
      "Description:               ID  Total Marks\n",
      "count  10.000000    10.000000\n",
      "mean   26.400000    42.600000\n",
      "std    28.024592    18.289037\n",
      "min     2.000000    12.000000\n",
      "25%     4.500000    34.000000\n",
      "50%    20.000000    39.500000\n",
      "75%    33.500000    55.000000\n",
      "max    87.000000    67.000000\n"
     ]
    }
   ],
   "source": [
    "print('Description:', data.describe())"
   ]
  },
  {
   "cell_type": "markdown",
   "metadata": {},
   "source": [
    "# Linear Regression"
   ]
  },
  {
   "cell_type": "code",
   "execution_count": 38,
   "metadata": {},
   "outputs": [],
   "source": [
    "# Regression equation --   y = Ax + B"
   ]
  },
  {
   "cell_type": "code",
   "execution_count": 30,
   "metadata": {},
   "outputs": [],
   "source": [
    "x = [5,1,6,5,19,5,0,2,2,6]\n",
    "y = [0,21,5,5,9,5,3,2,6,3]"
   ]
  },
  {
   "cell_type": "code",
   "execution_count": 31,
   "metadata": {},
   "outputs": [
    {
     "data": {
      "text/plain": [
       "<matplotlib.collections.PathCollection at 0x11ebec940>"
      ]
     },
     "execution_count": 31,
     "metadata": {},
     "output_type": "execute_result"
    },
    {
     "data": {
      "image/png": "[encoded data removed]",
      "text/plain": [
       "<Figure size 432x288 with 1 Axes>"
      ]
     },
     "metadata": {
      "needs_background": "light"
     },
     "output_type": "display_data"
    }
   ],
   "source": [
    "mp.scatter(x,y)"
   ]
  },
  {
   "cell_type": "code",
   "execution_count": 37,
   "metadata": {},
   "outputs": [
    {
     "name": "stdout",
     "output_type": "stream",
     "text": [
      "Variance:  25.690000000000005 \n",
      " Covariance_xy:  [[28.54444444  0.56666667]\n",
      " [ 0.56666667 34.1       ]]\n"
     ]
    }
   ],
   "source": [
    "var_x = np.var(x)\n",
    "covar_xy = np.cov(x,y)\n",
    "print(\"Variance: \",var_x,\"\\n\",\"Covariance_xy: \", covar_xy)"
   ]
  },
  {
   "cell_type": "code",
   "execution_count": null,
   "metadata": {},
   "outputs": [],
   "source": [
    "# For B -- "
   ]
  },
  {
   "cell_type": "code",
   "execution_count": 39,
   "metadata": {},
   "outputs": [
    {
     "name": "stdout",
     "output_type": "stream",
     "text": [
      "B:  [[1.11111111 0.02205787]\n",
      " [0.02205787 1.32736473]]\n"
     ]
    }
   ],
   "source": [
    "b = covar_xy/var_x\n",
    "print(\"B: \", b)"
   ]
  },
  {
   "cell_type": "code",
   "execution_count": null,
   "metadata": {},
   "outputs": [],
   "source": [
    "# For A -- "
   ]
  },
  {
   "cell_type": "code",
   "execution_count": 40,
   "metadata": {},
   "outputs": [
    {
     "name": "stdout",
     "output_type": "stream",
     "text": [
      "A:  [[1.11111111 0.02205787]\n",
      " [0.02205787 1.32736473]]\n"
     ]
    }
   ],
   "source": [
    "a = np.mean(x) - (b * np.mean(y))\n",
    "print(\"A: \", b)"
   ]
  },
  {
   "cell_type": "markdown",
   "metadata": {},
   "source": [
    "## R-squared value"
   ]
  },
  {
   "cell_type": "code",
   "execution_count": null,
   "metadata": {},
   "outputs": [],
   "source": [
    "# For R-Square -- between 0 to 1... -- Accuracy measure\n",
    "# 1 - perfectly ftting regression line\n"
   ]
  },
  {
   "cell_type": "code",
   "execution_count": 44,
   "metadata": {},
   "outputs": [
    {
     "name": "stdout",
     "output_type": "stream",
     "text": [
      "R square:  0.3842172032136967\n"
     ]
    }
   ],
   "source": [
    "xbar = np.mean(x)\n",
    "sse = []\n",
    "ssr = []\n",
    "\n",
    "for i in x:\n",
    "    s = np.square(i - xbar)\n",
    "    sse.append(x)\n",
    "    yhat = (a*i) + b\n",
    "    ssr.append(yhat)\n",
    "    \n",
    "SSE = np.sum(sse)\n",
    "SSR = np.sum(ssr)\n",
    "SSTO = SSE + SSR\n",
    "\n",
    "R2 = SSR/SSTO\n",
    "print(\"R square: \", R2)"
   ]
  },
  {
   "cell_type": "markdown",
   "metadata": {},
   "source": [
    "## T-Test"
   ]
  },
  {
   "cell_type": "code",
   "execution_count": 45,
   "metadata": {},
   "outputs": [
    {
     "name": "stdout",
     "output_type": "stream",
     "text": [
      "T-value:  1.554963166046448\n"
     ]
    }
   ],
   "source": [
    "# Hyposthesis Testing -- \n",
    "# T - Square\n",
    "a = [2,3,9,6,4]\n",
    "b = [1,2,3,4,5]\n",
    "\n",
    "dif = np.subtract(a,b)\n",
    "edif = np.sum(dif)\n",
    "n = np.count_nonzero(a)\n",
    "num = edif/n\n",
    "\n",
    "dif2 = np.square(dif)\n",
    "edif2 = np.sum(dif2)\n",
    "sqedif = np.square(edif)\n",
    "\n",
    "den1 = edif2/1\n",
    "den2 = sqedif/n\n",
    "den3 = (n-1) * n\n",
    "den4 = np.subtract(den1, den2)\n",
    "denm = np.sqrt(np.divide(den4, den3))\n",
    "T = num/denm\n",
    "\n",
    "print('T-value: ', T)"
   ]
  },
  {
   "cell_type": "markdown",
   "metadata": {},
   "source": [
    "## Degree of Freedom "
   ]
  },
  {
   "cell_type": "code",
   "execution_count": 48,
   "metadata": {},
   "outputs": [],
   "source": [
    "df = np.count_nonzero(a) + np.count_nonzero(b) - 2"
   ]
  },
  {
   "cell_type": "markdown",
   "metadata": {},
   "source": [
    "## P-value"
   ]
  },
  {
   "cell_type": "code",
   "execution_count": 49,
   "metadata": {},
   "outputs": [
    {
     "name": "stdout",
     "output_type": "stream",
     "text": [
      "P-value:  0.9999999999422138\n"
     ]
    }
   ],
   "source": [
    "p = 1 - norm.cdf(T, df)\n",
    "print('P-value: ', p)"
   ]
  },
  {
   "cell_type": "markdown",
   "metadata": {},
   "source": [
    "## F-Value"
   ]
  },
  {
   "cell_type": "code",
   "execution_count": 51,
   "metadata": {},
   "outputs": [
    {
     "name": "stdout",
     "output_type": "stream",
     "text": [
      "F-value:  3.08\n",
      "P-value:  0.9999995672789381\n"
     ]
    }
   ],
   "source": [
    "f1 = np.var(a)\n",
    "f2 = np.var(b)\n",
    "F = f1/f2\n",
    "\n",
    "print('F-value: ', F)\n",
    "p = 1 - norm.cdf(F, df)\n",
    "print('P-value: ', p)"
   ]
  },
  {
   "cell_type": "markdown",
   "metadata": {},
   "source": [
    "## Chi Square"
   ]
  },
  {
   "cell_type": "code",
   "execution_count": 52,
   "metadata": {},
   "outputs": [],
   "source": [
    "# Chi square -- Relation between categorical variables"
   ]
  },
  {
   "cell_type": "code",
   "execution_count": null,
   "metadata": {},
   "outputs": [],
   "source": [
    "a = [2,3,9]\n",
    "b = [1,2,3]"
   ]
  },
  {
   "cell_type": "code",
   "execution_count": 53,
   "metadata": {},
   "outputs": [
    {
     "name": "stdout",
     "output_type": "stream",
     "text": [
      "CHI:  13.5\n"
     ]
    }
   ],
   "source": [
    "ch1 = np.square(1)\n",
    "ch2 = np.square(1)\n",
    "ch3 = np.square(6)\n",
    "\n",
    "chi1 = ch1/1\n",
    "chi2 = ch2/2\n",
    "chi3 = ch3/3\n",
    "\n",
    "chi = chi1 + chi2 + chi3\n",
    "print(\"CHI: \", chi)"
   ]
  },
  {
   "cell_type": "markdown",
   "metadata": {},
   "source": [
    "## Ordinary Least Squares"
   ]
  },
  {
   "cell_type": "code",
   "execution_count": null,
   "metadata": {},
   "outputs": [],
   "source": [
    "# Ordinary least square regression techniques\n",
    "# these can also take inputs from DataFrame"
   ]
  },
  {
   "cell_type": "code",
   "execution_count": 63,
   "metadata": {},
   "outputs": [],
   "source": [
    "import numpy.random as np\n",
    "from scipy.stats import stats\n",
    "import statsmodels.formula.api as sm"
   ]
  },
  {
   "cell_type": "markdown",
   "metadata": {},
   "source": [
    "input = np.randn(3,3)\n",
    "y = input[:,0]\n",
    "x = input[:,1:]\n",
    "print(\"data:\", input)\n",
    "print(\"\\n\")\n",
    "print(\"X:\", x, \"\\n\"\"Y:\", y)"
   ]
  },
  {
   "cell_type": "code",
   "execution_count": 67,
   "metadata": {},
   "outputs": [
    {
     "name": "stdout",
     "output_type": "stream",
     "text": [
      "Model Summary:                              OLS Regression Results                            \n",
      "==============================================================================\n",
      "Dep. Variable:                      y   R-squared:                       0.971\n",
      "Model:                            OLS   Adj. R-squared:                  0.912\n",
      "Method:                 Least Squares   F-statistic:                     16.46\n",
      "Date:                Wed, 20 Feb 2019   Prob (F-statistic):              0.172\n",
      "Time:                        12:25:33   Log-Likelihood:                0.72674\n",
      "No. Observations:                   3   AIC:                             2.547\n",
      "Df Residuals:                       1   BIC:                            0.7437\n",
      "Df Model:                           2                                         \n",
      "Covariance Type:            nonrobust                                         \n",
      "==============================================================================\n",
      "                 coef    std err          t      P>|t|      [0.025      0.975]\n",
      "------------------------------------------------------------------------------\n",
      "x1             0.0559      0.351      0.160      0.899      -4.401       4.513\n",
      "x2            -1.5301      0.268     -5.712      0.110      -4.934       1.874\n",
      "==============================================================================\n",
      "Omnibus:                          nan   Durbin-Watson:                   2.485\n",
      "Prob(Omnibus):                    nan   Jarque-Bera (JB):                0.469\n",
      "Skew:                          -0.613   Prob(JB):                        0.791\n",
      "Kurtosis:                       1.500   Cond. No.                         1.32\n",
      "==============================================================================\n",
      "\n",
      "Warnings:\n",
      "[1] Standard Errors assume that the covariance matrix of the errors is correctly specified.\n",
      "Parameters:  [ 0.05594782 -1.53009979]\n",
      "T values:  [ 0.15950284 -5.71192197]\n"
     ]
    },
    {
     "name": "stderr",
     "output_type": "stream",
     "text": [
      "/anaconda3/lib/python3.7/site-packages/statsmodels/stats/stattools.py:72: ValueWarning: omni_normtest is not valid with less than 8 observations; 3 samples were given.\n",
      "  \"samples were given.\" % int(n), ValueWarning)\n"
     ]
    }
   ],
   "source": [
    "ol = sm.OLS(y,x)\n",
    "mf = ol.fit()\n",
    "print(\"Model Summary: \", mf.summary())\n",
    "print(\"Parameters: \", mf.params)\n",
    "print(\"T values: \", mf.tvalues)"
   ]
  },
  {
   "cell_type": "markdown",
   "metadata": {},
   "source": [
    "## ANOVA"
   ]
  },
  {
   "cell_type": "code",
   "execution_count": null,
   "metadata": {},
   "outputs": [],
   "source": [
    "# ANOVA -- Analysis of Variance"
   ]
  },
  {
   "cell_type": "code",
   "execution_count": 70,
   "metadata": {},
   "outputs": [
    {
     "name": "stdout",
     "output_type": "stream",
     "text": [
      "Anova:  F_onewayResult(statistic=54.0, pvalue=0.001826260668259983)\n",
      "T-test:  Ttest_indResult(statistic=-7.3484692283495345, pvalue=0.0018262606682599833)\n"
     ]
    }
   ],
   "source": [
    "a = [1,2,3]\n",
    "b = [4,5,6]\n",
    "c = [7,8,9]\n",
    "\n",
    "an = stats.f_oneway(a,c)\n",
    "print(\"Anova: \", an)\n",
    "\n",
    "t = stats.ttest_ind(a,c)\n",
    "print(\"T-test: \", t)\n",
    "\n"
   ]
  },
  {
   "cell_type": "markdown",
   "metadata": {},
   "source": [
    "## Fitting Linear Regression"
   ]
  },
  {
   "cell_type": "code",
   "execution_count": 71,
   "metadata": {},
   "outputs": [],
   "source": [
    "from sklearn.linear_model import LinearRegression"
   ]
  },
  {
   "cell_type": "code",
   "execution_count": 74,
   "metadata": {},
   "outputs": [
    {
     "data": {
      "text/plain": [
       "LinearRegression(copy_X=True, fit_intercept=True, n_jobs=None,\n",
       "         normalize=False)"
      ]
     },
     "execution_count": 74,
     "metadata": {},
     "output_type": "execute_result"
    }
   ],
   "source": [
    "input = np.randn(3,3)\n",
    "y = input[:,0]\n",
    "x = input[:,1:]\n",
    "\n",
    "mod = LinearRegression()\n",
    "mod.fit(x,y)\n",
    "LinearRegression(copy_X = True, fit_intercept = True, normalize = False)"
   ]
  },
  {
   "cell_type": "code",
   "execution_count": 75,
   "metadata": {},
   "outputs": [
    {
     "name": "stdout",
     "output_type": "stream",
     "text": [
      "Coefficient:  [-14.98207084  33.85525815]\n",
      "Intercept:  -41.21166190853392\n"
     ]
    }
   ],
   "source": [
    "m = mod.coef_\n",
    "c = mod.intercept_\n",
    "\n",
    "print(\"Coefficient: \", m)\n",
    "print(\"Intercept: \", c)"
   ]
  },
  {
   "cell_type": "code",
   "execution_count": 76,
   "metadata": {},
   "outputs": [
    {
     "data": {
      "image/png": "[encoded data removed]",
      "text/plain": [
       "<Figure size 432x288 with 1 Axes>"
      ]
     },
     "metadata": {
      "needs_background": "light"
     },
     "output_type": "display_data"
    }
   ],
   "source": [
    "mp.plot(x,y, 'o', label = \"original data\", markersize = 12)\n",
    "mp.plot(x, (m*x)+c, 'b', label = \"fitted data\")\n",
    "mp.legend()\n",
    "mp.show()"
   ]
  },
  {
   "cell_type": "code",
   "execution_count": 77,
   "metadata": {},
   "outputs": [],
   "source": [
    "from scipy import interpolate"
   ]
  },
  {
   "cell_type": "code",
   "execution_count": 78,
   "metadata": {},
   "outputs": [
    {
     "data": {
      "text/plain": [
       "[<matplotlib.lines.Line2D at 0x1a217e94e0>]"
      ]
     },
     "execution_count": 78,
     "metadata": {},
     "output_type": "execute_result"
    },
    {
     "data": {
      "image/png": "[encoded data removed]",
      "text/plain": [
       "<Figure size 432x288 with 1 Axes>"
      ]
     },
     "metadata": {
      "needs_background": "light"
     },
     "output_type": "display_data"
    }
   ],
   "source": [
    "x = [1,2,3,4,5]\n",
    "y = [3,4,9,12,20]\n",
    "mp.plot(x,y,'r')"
   ]
  },
  {
   "cell_type": "code",
   "execution_count": 79,
   "metadata": {},
   "outputs": [
    {
     "name": "stdout",
     "output_type": "stream",
     "text": [
      "Interpolate:  (array([1., 1., 1., 1., 3., 5., 5., 5., 5.]), array([ 3.        ,  0.27777778, 12.5       , 10.72222222, 20.        ,\n",
      "        0.        ,  0.        ,  0.        ,  0.        ]), 3)\n"
     ]
    }
   ],
   "source": [
    "curve = interpolate.splrep(x,y)\n",
    "print(\"Interpolate: \", curve)"
   ]
  },
  {
   "cell_type": "code",
   "execution_count": null,
   "metadata": {},
   "outputs": [],
   "source": []
  }
 ],
 "metadata": {
  "kernelspec": {
   "display_name": "Python 3",
   "language": "python",
   "name": "python3"
  },
  "language_info": {
   "codemirror_mode": {
    "name": "ipython",
    "version": 3
   },
   "file_extension": ".py",
   "mimetype": "text/x-python",
   "name": "python",
   "nbconvert_exporter": "python",
   "pygments_lexer": "ipython3",
   "version": "3.7.1"
  }
 },
 "nbformat": 4,
 "nbformat_minor": 2
}
